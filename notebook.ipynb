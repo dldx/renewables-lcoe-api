{
 "cells": [
  {
   "cell_type": "code",
   "execution_count": 1,
   "metadata": {},
   "outputs": [],
   "source": [
    "%load_ext autoreload\n",
    "%autoreload 2"
   ]
  },
  {
   "cell_type": "code",
   "execution_count": 69,
   "metadata": {},
   "outputs": [],
   "source": [
    "import numpy as np\n",
    "import polars as pl\n",
    "from pyxirr import irr, npv\n",
    "from functools import partial\n",
    "from scipy.optimize import fsolve"
   ]
  },
  {
   "cell_type": "code",
   "execution_count": 44,
   "metadata": {},
   "outputs": [
    {
     "name": "stdout",
     "output_type": "stream",
     "text": [
      "capacity_mw=30.0 capacity_factor=0.097 capital_expenditure_per_mw=670000.0 o_m_cost_pct_of_capital_cost=0.02 debt_pct_of_capital_cost=0.871 equity_pct_of_capital_cost=0.129 cost_of_debt=0.04 cost_of_equity=0.12 tax_rate=0.25 project_lifetime_years=20 dcsr=1.3 capital_cost=20100000.0 tax_adjusted_WACC=0.04161 wacc=0.050320000000000004\n"
     ]
    }
   ],
   "source": [
    "\n",
    "from schema import SolarPVAssumptions\n",
    "# Example usage\n",
    "assumptions = SolarPVAssumptions(\n",
    "    capacity_mw=30,\n",
    "    capital_expenditure_per_mw=670_000,\n",
    "    o_m_cost_pct_of_capital_cost=0.02,\n",
    "    capacity_factor=0.097,\n",
    "    project_lifetime_years=20,\n",
    "    debt_pct_of_capital_cost=0.871,\n",
    "    equity_pct_of_capital_cost=0.129,\n",
    "    cost_of_debt=0.04,\n",
    "    cost_of_equity=0.12,\n",
    "    tax_rate=0.25,\n",
    "    dcsr=1.3\n",
    ")\n",
    "\n",
    "print(assumptions)"
   ]
  },
  {
   "cell_type": "code",
   "execution_count": null,
   "metadata": {},
   "outputs": [],
   "source": [
    "## Pro Forma\n",
    "\n",
    "# Starting LCOE\n",
    "LCOE_guess = 81.44\n",
    "\n",
    "def calculate_cashflow(assumptions, LCOE_guess, return_model=False):\n",
    "    # Create a dataframe, starting with the period\n",
    "    model = pl.DataFrame(\n",
    "        {\n",
    "            \"Period\": [i for i in range(assumptions.project_lifetime_years + 1)],\n",
    "        }\n",
    "    )\n",
    "\n",
    "    model = model.with_columns(\n",
    "        Capacity_MW = pl.when(pl.col(\"Period\") > 0).then(assumptions.capacity_mw).otherwise(0),\n",
    "        Capacity_Factor = pl.when(pl.col(\"Period\") > 0).then(assumptions.capacity_factor).otherwise(0),\n",
    "        LCOE = pl.when(pl.col(\"Period\") > 0).then(LCOE_guess).otherwise(0),\n",
    "    ).with_columns(\n",
    "        Total_Generation_MWh = pl.col(\"Capacity_MW\") * pl.col(\"Capacity_Factor\") * 8760,\n",
    "    ).with_columns(\n",
    "        Total_Revenues_mn = pl.col(\"Total_Generation_MWh\") * pl.col(\"LCOE\")/1000,\n",
    "        O_M_Costs_mn = pl.when(pl.col(\"Period\") > 0).then(assumptions.capital_cost/1000 * assumptions.o_m_cost_pct_of_capital_cost).otherwise(0),\n",
    "    ).with_columns(\n",
    "        Total_Operating_Costs_mn = pl.col(\"O_M_Costs_mn\"),\n",
    "    ).with_columns(\n",
    "        EBITDA_mn = pl.col(\"Total_Revenues_mn\") - pl.col(\"Total_Operating_Costs_mn\"),\n",
    "    ).with_columns(\n",
    "        CFADS_mn = pl.col(\"EBITDA_mn\"),\n",
    "    ).with_columns(\n",
    "        Target_Debt_Service_mn = pl.when(pl.col(\"Period\") == 0).then(0).otherwise(pl.col(\"CFADS_mn\")/assumptions.dcsr),\n",
    "        Debt_Outstanding_EoP_mn = pl.when(pl.col(\"Period\") == 0).then(assumptions.debt_pct_of_capital_cost * assumptions.capital_cost/1000).otherwise(0),\n",
    "    ).with_columns(\n",
    "        Interest_Expense_mn = pl.when(pl.col(\"Period\") == 0).then(0).otherwise(pl.col(\"Debt_Outstanding_EoP_mn\").shift(1) * assumptions.cost_of_debt),\n",
    "    ).with_columns(\n",
    "        Amortization_mn = pl.when(pl.col(\"Period\") == 0).then(0).otherwise(pl.min_horizontal(pl.col(\"Target_Debt_Service_mn\") - pl.col(\"Interest_Expense_mn\"), pl.col(\"Debt_Outstanding_EoP_mn\").shift(1))),\n",
    "    ).with_columns(\n",
    "        Debt_Outstanding_EoP_mn = pl.when(pl.col(\"Period\") == 0).then(pl.col(\n",
    "                \"Debt_Outstanding_EoP_mn\"\n",
    "        )).otherwise(pl.col(\"Debt_Outstanding_EoP_mn\").shift(1) - pl.col(\"Amortization_mn\")\n",
    "    )).with_columns(\n",
    "        Debt_Outstanding_BoP_mn = pl.col(\"Debt_Outstanding_EoP_mn\").shift(1),\n",
    "    ).to_pandas()\n",
    "\n",
    "    for period in model[\"Period\"]:\n",
    "        if period > 1:\n",
    "            model.loc[period, \"Interest_Expense_mn\"] = model.loc[period, \"Debt_Outstanding_BoP_mn\"] * assumptions.cost_of_debt\n",
    "            model.loc[period, \"Amortization_mn\"] = min(\n",
    "                model.loc[period, \"Target_Debt_Service_mn\"] - model.loc[period, \"Interest_Expense_mn\"],\n",
    "                model.loc[period, \"Debt_Outstanding_BoP_mn\"]\n",
    "            )\n",
    "            model.loc[period, \"Debt_Outstanding_EoP_mn\"] = model.loc[period, \"Debt_Outstanding_BoP_mn\"] - model.loc[period, \"Amortization_mn\"]\n",
    "            if period < assumptions.project_lifetime_years:\n",
    "                model.loc[period + 1, \"Debt_Outstanding_BoP_mn\"] = model.loc[period, \"Debt_Outstanding_EoP_mn\"]\n",
    "\n",
    "    model = pl.DataFrame(model).with_columns(\n",
    "        # Straight line depreciation\n",
    "        Depreciation_mn = pl.when(pl.col(\"Period\") > 0).then(assumptions.capital_cost/1000/assumptions.project_lifetime_years).otherwise(0),\n",
    "    ).with_columns(\n",
    "        Taxable_Income_mn = pl.col(\"EBITDA_mn\") - pl.col(\"Depreciation_mn\") - pl.col(\"Interest_Expense_mn\"),\n",
    "    ).with_columns(\n",
    "        Tax_Liability_mn = pl.max_horizontal(0, assumptions.tax_rate * pl.col(\"Taxable_Income_mn\"))\n",
    "    ).with_columns(\n",
    "        Post_Tax_Net_Equity_Cashflow_mn = pl.when(pl.col(\"Period\") == 0).then(-assumptions.capital_cost/1000 * assumptions.equity_pct_of_capital_cost).otherwise(pl.col(\"EBITDA_mn\") - pl.col(\"Target_Debt_Service_mn\") - pl.col(\"Tax_Liability_mn\"))\n",
    "    )\n",
    "\n",
    "    # Calculate Post-Tax Equity IRR\n",
    "    post_tax_equity_irr = irr(model[\"Post_Tax_Net_Equity_Cashflow_mn\"].to_numpy())\n",
    "    if return_model:\n",
    "        return model, post_tax_equity_irr\n",
    "    return post_tax_equity_irr - assumptions.cost_of_equity"
   ]
  },
  {
   "cell_type": "code",
   "execution_count": 99,
   "metadata": {},
   "outputs": [
    {
     "data": {
      "text/plain": [
       "(shape: (21, 19)\n",
       " ┌────────┬────────────┬────────────┬───────────┬───┬───────────┬───────────┬───────────┬───────────┐\n",
       " │ Period ┆ Capacity_M ┆ Capacity_F ┆ LCOE      ┆ … ┆ Depreciat ┆ Taxable_I ┆ Tax_Liabi ┆ Post_Tax_ │\n",
       " │ ---    ┆ W          ┆ actor      ┆ ---       ┆   ┆ ion_mn    ┆ ncome_mn  ┆ lity_mn   ┆ Net_Equit │\n",
       " │ i64    ┆ ---        ┆ ---        ┆ f64       ┆   ┆ ---       ┆ ---       ┆ ---       ┆ y_Cashflo │\n",
       " │        ┆ f64        ┆ f64        ┆           ┆   ┆ f64       ┆ f64       ┆ f64       ┆ w_m…      │\n",
       " │        ┆            ┆            ┆           ┆   ┆           ┆           ┆           ┆ ---       │\n",
       " │        ┆            ┆            ┆           ┆   ┆           ┆           ┆           ┆ f64       │\n",
       " ╞════════╪════════════╪════════════╪═══════════╪═══╪═══════════╪═══════════╪═══════════╪═══════════╡\n",
       " │ 0      ┆ 0.0        ┆ 0.0        ┆ 0.0       ┆ … ┆ 0.0       ┆ 0.0       ┆ 0.0       ┆ -2592.9   │\n",
       " │ 1      ┆ 30.0       ┆ 0.097      ┆ 77.609918 ┆ … ┆ 1005.0    ┆ -128.8830 ┆ 0.0       ┆ 363.78484 │\n",
       " │        ┆            ┆            ┆           ┆   ┆           ┆ 02        ┆           ┆ 6         │\n",
       " │ 2      ┆ 30.0       ┆ 0.097      ┆ 77.609918 ┆ … ┆ 1005.0    ┆ -108.3897 ┆ 0.0       ┆ 363.78484 │\n",
       " │        ┆            ┆            ┆           ┆   ┆           ┆ 16        ┆           ┆ 6         │\n",
       " │ 3      ┆ 30.0       ┆ 0.097      ┆ 77.609918 ┆ … ┆ 1005.0    ┆ -87.07669 ┆ 0.0       ┆ 363.78484 │\n",
       " │        ┆            ┆            ┆           ┆   ┆           ┆ 9         ┆           ┆ 6         │\n",
       " │ 4      ┆ 30.0       ┆ 0.097      ┆ 77.609918 ┆ … ┆ 1005.0    ┆ -64.91116 ┆ 0.0       ┆ 363.78484 │\n",
       " │        ┆            ┆            ┆           ┆   ┆           ┆           ┆           ┆ 6         │\n",
       " │ …      ┆ …          ┆ …          ┆ …         ┆ … ┆ …         ┆ …         ┆ …         ┆ …         │\n",
       " │ 16     ┆ 30.0       ┆ 0.097      ┆ 77.609918 ┆ … ┆ 1005.0    ┆ 281.46610 ┆ 70.366527 ┆ 293.41831 │\n",
       " │        ┆            ┆            ┆           ┆   ┆           ┆ 8         ┆           ┆ 9         │\n",
       " │ 17     ┆ 30.0       ┆ 0.097      ┆ 77.609918 ┆ … ┆ 1005.0    ┆ 318.37335 ┆ 79.59334  ┆ 284.19150 │\n",
       " │        ┆            ┆            ┆           ┆   ┆           ┆ 8         ┆           ┆ 6         │\n",
       " │ 18     ┆ 30.0       ┆ 0.097      ┆ 77.609918 ┆ … ┆ 1005.0    ┆ 356.75689 ┆ 89.189225 ┆ 274.59562 │\n",
       " │        ┆            ┆            ┆           ┆   ┆           ┆ 9         ┆           ┆ 1         │\n",
       " │ 19     ┆ 30.0       ┆ 0.097      ┆ 77.609918 ┆ … ┆ 1005.0    ┆ 396.67578 ┆ 99.168945 ┆ 264.6159  │\n",
       " │        ┆            ┆            ┆           ┆   ┆           ┆ 1         ┆           ┆           │\n",
       " │ 20     ┆ 30.0       ┆ 0.097      ┆ 77.609918 ┆ … ┆ 1005.0    ┆ 438.19141 ┆ 109.54785 ┆ 254.23699 │\n",
       " │        ┆            ┆            ┆           ┆   ┆           ┆ 8         ┆ 5         ┆ 1         │\n",
       " └────────┴────────────┴────────────┴───────────┴───┴───────────┴───────────┴───────────┴───────────┘,\n",
       " 0.12000008866075423)"
      ]
     },
     "execution_count": 99,
     "metadata": {},
     "output_type": "execute_result"
    }
   ],
   "source": [
    "breakeven_LCOE = fsolve(partial(calculate_cashflow, assumptions), 44)[0] + 0.0001\n",
    "calculate_cashflow(assumptions, breakeven_LCOE, return_model=True)\n"
   ]
  }
 ],
 "metadata": {
  "kernelspec": {
   "display_name": "renewable-lcoe",
   "language": "python",
   "name": "renewable-lcoe"
  },
  "language_info": {
   "codemirror_mode": {
    "name": "ipython",
    "version": 3
   },
   "file_extension": ".py",
   "mimetype": "text/x-python",
   "name": "python",
   "nbconvert_exporter": "python",
   "pygments_lexer": "ipython3",
   "version": "3.11.5"
  }
 },
 "nbformat": 4,
 "nbformat_minor": 2
}
