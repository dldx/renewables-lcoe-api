{
 "cells": [
  {
   "cell_type": "code",
   "execution_count": 1,
   "metadata": {},
   "outputs": [],
   "source": [
    "%load_ext autoreload\n",
    "%autoreload 2"
   ]
  },
  {
   "cell_type": "code",
   "execution_count": 2,
   "metadata": {},
   "outputs": [],
   "source": [
    "import numpy as np\n",
    "import polars as pl\n",
    "from pyxirr import irr, npv\n",
    "from functools import partial\n",
    "from scipy.optimize import fsolve"
   ]
  },
  {
   "cell_type": "code",
   "execution_count": null,
   "metadata": {},
   "outputs": [],
   "source": [
    "from model import calculate_cashflow_for_renewable_project, calculate_lcoe"
   ]
  },
  {
   "cell_type": "code",
   "execution_count": null,
   "metadata": {},
   "outputs": [
    {
     "name": "stdout",
     "output_type": "stream",
     "text": [
      "capacity_mw=30.0 capacity_factor=0.097 capital_expenditure_per_mw=670000.0 o_m_cost_pct_of_capital_cost=0.02 debt_pct_of_capital_cost=None equity_pct_of_capital_cost=None cost_of_debt=0.04 cost_of_equity=0.12 tax_rate=0.25 project_lifetime_years=20 dcsr=1.4 capital_cost=20100000.0 tax_adjusted_WACC=None wacc=None\n"
     ]
    }
   ],
   "source": [
    "\n",
    "from schema import SolarPVAssumptions\n",
    "# Example usage\n",
    "assumptions = SolarPVAssumptions(\n",
    "    capacity_mw=30,\n",
    "    capital_expenditure_per_mw=670_000,\n",
    "    o_m_cost_pct_of_capital_cost=0.02,\n",
    "    capacity_factor=0.097,\n",
    "    project_lifetime_years=20,\n",
    "    # debt_pct_of_capital_cost=0.8,\n",
    "    # equity_pct_of_capital_cost=0.2,\n",
    "    cost_of_debt=0.04,\n",
    "    cost_of_equity=0.12,\n",
    "    tax_rate=0.25,\n",
    "    dcsr=1.3\n",
    ")\n",
    "\n",
    "print(assumptions)"
   ]
  },
  {
   "cell_type": "code",
   "execution_count": 181,
   "metadata": {},
   "outputs": [],
   "source": [
    "lcoe = calculate_lcoe(assumptions)"
   ]
  },
  {
   "cell_type": "code",
   "execution_count": 185,
   "metadata": {},
   "outputs": [
    {
     "data": {
      "text/plain": [
       "0.8078940187531236"
      ]
     },
     "execution_count": 185,
     "metadata": {},
     "output_type": "execute_result"
    }
   ],
   "source": [
    "model, post_tax_equity_irr, tariff, adjusted_assumptions = calculate_cashflow_for_renewable_project(assumptions, lcoe, return_model=True)\n",
    "adjusted_assumptions.debt_pct_of_capital_cost"
   ]
  }
 ],
 "metadata": {
  "kernelspec": {
   "display_name": "renewable-lcoe",
   "language": "python",
   "name": "renewable-lcoe"
  },
  "language_info": {
   "codemirror_mode": {
    "name": "ipython",
    "version": 3
   },
   "file_extension": ".py",
   "mimetype": "text/x-python",
   "name": "python",
   "nbconvert_exporter": "python",
   "pygments_lexer": "ipython3",
   "version": "3.11.5"
  }
 },
 "nbformat": 4,
 "nbformat_minor": 2
}
